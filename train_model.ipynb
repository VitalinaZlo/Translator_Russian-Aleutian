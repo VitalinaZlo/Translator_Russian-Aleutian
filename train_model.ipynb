{
  "cells": [
    {
      "cell_type": "markdown",
      "source": [
        "# Обучение модели"
      ],
      "metadata": {
        "id": "BNfHN0MKYSkz"
      }
    },
    {
      "cell_type": "code",
      "execution_count": null,
      "metadata": {
        "collapsed": true,
        "id": "r4Zrugp1bcV4"
      },
      "outputs": [],
      "source": [
        "!pip install transformers torch pandas datasets\n",
        "\n",
        "import pandas as pd\n",
        "from transformers import MarianTokenizer, MarianMTModel\n",
        "from datasets import Dataset\n",
        "import torch"
      ]
    },
    {
      "cell_type": "code",
      "execution_count": null,
      "metadata": {
        "colab": {
          "base_uri": "https://localhost:8080/"
        },
        "id": "cIPJ9roEccs_",
        "outputId": "4225ec7f-abd7-4fdf-c5f9-f1a9c03b1ced"
      },
      "outputs": [
        {
          "output_type": "stream",
          "name": "stdout",
          "text": [
            "Используемое устройство: cpu\n"
          ]
        }
      ],
      "source": [
        "device = torch.device(\"cuda\" if torch.cuda.is_available() else \"cpu\")\n",
        "print(f\"Используемое устройство: {device}\")"
      ]
    },
    {
      "cell_type": "code",
      "execution_count": null,
      "metadata": {
        "colab": {
          "base_uri": "https://localhost:8080/"
        },
        "id": "kTSw3lHJcmzs",
        "outputId": "a7b72431-781c-4aee-c07a-d8d7e8af439b"
      },
      "outputs": [
        {
          "name": "stdout",
          "output_type": "stream",
          "text": [
            "Первые 3 записи в translation_pairs: [{'Russian': 'Бабушка', 'Aleut': 'ana-ẍ ana-ẍ'}, {'Russian': 'Белая птица сидит на дереве', 'Aleut': 'sisu-ẍ chngii-ẍ qaada-ẍ ku-ga-n ungut-iku-ẍ'}, {'Russian': 'Белые хлопья покрывают гору', 'Aleut': 'sisu-ẍ usa-ku-ẍ qugana-ẍ ku-ga-n'}]\n",
            "Первые 3 записи в dataset: {'source': ['Бабушка', 'Белая птица сидит на дереве', 'Белые хлопья покрывают гору'], 'target': ['ana-ẍ ana-ẍ', 'sisu-ẍ chngii-ẍ qaada-ẍ ku-ga-n ungut-iku-ẍ', 'sisu-ẍ usa-ku-ẍ qugana-ẍ ku-ga-n']}\n"
          ]
        }
      ],
      "source": [
        "df = pd.read_csv('russian_aleut_dataset.csv', sep=';', encoding='utf-8')\n",
        "translation_pairs = df[['Russian', 'Aleut']].dropna().to_dict('records')\n",
        "\n",
        "print(\"Первые 3 записи в translation_pairs:\", translation_pairs[:3])\n",
        "\n",
        "dataset = Dataset.from_list([{\"source\": pair['Russian'], \"target\": pair['Aleut']} for pair in translation_pairs])\n",
        "print(\"Первые 3 записи в dataset:\", dataset[:3])\n"
      ]
    },
    {
      "cell_type": "code",
      "execution_count": null,
      "metadata": {
        "id": "dAohwg-Fcw2k"
      },
      "outputs": [],
      "source": [
        "model_name = \"Helsinki-NLP/opus-mt-ru-en\"\n",
        "tokenizer = MarianTokenizer.from_pretrained(model_name)\n",
        "model = MarianMTModel.from_pretrained(model_name).to(device)\n",
        "\n",
        "tokenizer.add_tokens([\"ẍ\"])\n",
        "model.resize_token_embeddings(len(tokenizer))\n",
        "\n",
        "sample_text = \"qana-ẍ angali-ẍ ula-ẍ a-ku-ẍ\"\n",
        "encoded = tokenizer(sample_text, return_tensors=\"pt\")\n",
        "decoded = tokenizer.decode(encoded[\"input_ids\"][0], skip_special_tokens=True)\n",
        "print(\"Токенизировано и декодировано:\", decoded)"
      ]
    },
    {
      "cell_type": "code",
      "execution_count": null,
      "metadata": {
        "colab": {
          "base_uri": "https://localhost:8080/",
          "height": 49,
          "referenced_widgets": [
            "41515adc63c6423b89df0d06274533ee",
            "7e0bf699e5ea4c42ab9f20f32dfc336b",
            "03d9dbb43fda48bbb9128305161dc9e0",
            "9e7813a18c0d4f9692ff4f1aff468b6a",
            "bf2f03d2a7fd4758b870ea19ba300d65",
            "c2183dc14d0e4d61ae11d9f1290991c3",
            "3b8c7b56cd36433abde4ba9b0673c919",
            "45eab83e5ced40b98107865912500176",
            "2d59fbe1d2034a07a5a71c69211aac85",
            "fb582df8c0904bc792694a2de6d6137d",
            "158b186d43334d71907bc316bea7b2ea"
          ]
        },
        "id": "lyKDNf6uIaRc",
        "outputId": "f3f1db39-37ff-4187-a8ca-674de64abdb9"
      },
      "outputs": [
        {
          "data": {
            "application/vnd.jupyter.widget-view+json": {
              "model_id": "41515adc63c6423b89df0d06274533ee",
              "version_major": 2,
              "version_minor": 0
            },
            "text/plain": [
              "Map:   0%|          | 0/1142 [00:00<?, ? examples/s]"
            ]
          },
          "metadata": {},
          "output_type": "display_data"
        }
      ],
      "source": [
        "def preprocess_function(examples):\n",
        "    inputs = examples['source']\n",
        "    targets = examples['target']\n",
        "    model_inputs = tokenizer(inputs, max_length=128, truncation=True, padding=\"max_length\")\n",
        "    with tokenizer.as_target_tokenizer():\n",
        "        labels = tokenizer(targets, max_length=128, truncation=True, padding=\"max_length\")\n",
        "    model_inputs[\"labels\"] = labels[\"input_ids\"]\n",
        "    return model_inputs\n",
        "\n",
        "tokenized_dataset = dataset.map(preprocess_function, batched=True)\n",
        "\n",
        "train_test = tokenized_dataset.train_test_split(test_size=0.1)\n",
        "train_dataset = train_test['train']\n",
        "eval_dataset = train_test['test']\n",
        "\n",
        "from transformers import TrainingArguments, Trainer\n",
        "\n",
        "training_args = TrainingArguments(\n",
        "    output_dir=\"./mbart_aleut\",\n",
        "    evaluation_strategy=\"epoch\",\n",
        "    learning_rate=5e-5,\n",
        "    per_device_train_batch_size=2,\n",
        "    per_device_eval_batch_size=2,\n",
        "    gradient_accumulation_steps=2,\n",
        "    num_train_epochs=5,\n",
        "    weight_decay=0.01,\n",
        "    save_strategy=\"epoch\",\n",
        "    load_best_model_at_end=True,\n",
        "    logging_dir='./logs',\n",
        "    logging_steps=10,\n",
        "    report_to=\"none\",\n",
        "    fp16=True,\n",
        ")\n",
        "\n",
        "trainer = Trainer(\n",
        "    model=model,\n",
        "    args=training_args,\n",
        "    train_dataset=train_dataset,\n",
        "    eval_dataset=eval_dataset,\n",
        ")"
      ]
    },
    {
      "cell_type": "code",
      "execution_count": null,
      "metadata": {
        "colab": {
          "background_save": true,
          "base_uri": "https://localhost:8080/",
          "height": 415
        },
        "id": "81KEGxDXhqf3",
        "outputId": "1469f9ae-a90d-4763-fb3b-7fab599000fc"
      },
      "outputs": [
        {
          "data": {
            "text/html": [
              "\n",
              "    <div>\n",
              "      \n",
              "      <progress value='1285' max='1285' style='width:300px; height:20px; vertical-align: middle;'></progress>\n",
              "      [1285/1285 2:41:05, Epoch 5/5]\n",
              "    </div>\n",
              "    <table border=\"1\" class=\"dataframe\">\n",
              "  <thead>\n",
              " <tr style=\"text-align: left;\">\n",
              "      <th>Epoch</th>\n",
              "      <th>Training Loss</th>\n",
              "      <th>Validation Loss</th>\n",
              "    </tr>\n",
              "  </thead>\n",
              "  <tbody>\n",
              "    <tr>\n",
              "      <td>1</td>\n",
              "      <td>0.072600</td>\n",
              "      <td>0.061021</td>\n",
              "    </tr>\n",
              "    <tr>\n",
              "      <td>2</td>\n",
              "      <td>0.041600</td>\n",
              "      <td>0.030191</td>\n",
              "    </tr>\n",
              "    <tr>\n",
              "      <td>3</td>\n",
              "      <td>0.018300</td>\n",
              "      <td>0.018155</td>\n",
              "    </tr>\n",
              "    <tr>\n",
              "      <td>4</td>\n",
              "      <td>0.010100</td>\n",
              "      <td>0.015203</td>\n",
              "    </tr>\n",
              "    <tr>\n",
              "      <td>5</td>\n",
              "      <td>0.005300</td>\n",
              "      <td>0.014458</td>\n",
              "    </tr>\n",
              "  </tbody>\n",
              "</table><p>"
            ],
            "text/plain": [
              "<IPython.core.display.HTML object>"
            ]
          },
          "metadata": {},
          "output_type": "display_data"
        },
        {
          "name": "stderr",
          "output_type": "stream",
          "text": [
            "/usr/local/lib/python3.11/dist-packages/transformers/modeling_utils.py:3353: UserWarning: Moving the following attributes in the config to the generation config: {'max_length': 512, 'num_beams': 6, 'bad_words_ids': [[62517]]}. You are seeing this warning because you've set generation parameters in the model config, as opposed to in the generation config.\n",
            "  warnings.warn(\n",
            "There were missing keys in the checkpoint model loaded: ['model.encoder.embed_tokens.weight', 'model.encoder.embed_positions.weight', 'model.decoder.embed_tokens.weight', 'model.decoder.embed_positions.weight', 'lm_head.weight'].\n"
          ]
        },
        {
          "data": {
            "text/plain": [
              "TrainOutput(global_step=1285, training_loss=0.05965882285211801, metrics={'train_runtime': 9672.4047, 'train_samples_per_second': 0.531, 'train_steps_per_second': 0.133, 'total_flos': 174068103905280.0, 'train_loss': 0.05965882285211801, 'epoch': 5.0})"
            ]
          },
          "execution_count": 28,
          "metadata": {},
          "output_type": "execute_result"
        }
      ],
      "source": [
        "trainer.train()"
      ]
    },
    {
      "cell_type": "code",
      "execution_count": null,
      "metadata": {
        "id": "vP-le3VFhrIe"
      },
      "outputs": [],
      "source": [
        "from google.colab import files\n",
        "\n",
        "model.save_pretrained(\"Marian_aleut_model\")\n",
        "tokenizer.save_pretrained(\"Marian_aleut_model\")\n",
        "\n",
        "!zip -r Marian_aleut_model.zip Marian_aleut_model\n",
        "\n",
        "files.download(\"Marian_aleut_model.zip\")"
      ]
    },
    {
      "cell_type": "markdown",
      "source": [
        "# Тест модели"
      ],
      "metadata": {
        "id": "4daPuLbIYLm_"
      }
    },
    {
      "cell_type": "code",
      "execution_count": null,
      "metadata": {
        "id": "ZWEh7L_ca2o-"
      },
      "outputs": [],
      "source": [
        "model = MarianMTModel.from_pretrained(\"Marian_aleut_model\").to(device)\n",
        "tokenizer = MarianTokenizer.from_pretrained(\"Marian_aleut_model\")"
      ]
    },
    {
      "cell_type": "code",
      "execution_count": null,
      "metadata": {
        "id": "W2ZbOmPfa7Bf",
        "colab": {
          "base_uri": "https://localhost:8080/"
        },
        "outputId": "4279eda9-6988-448d-90a6-e598940d3ba1"
      },
      "outputs": [
        {
          "output_type": "stream",
          "name": "stdout",
          "text": [
            "qana-ẍ angali-ẍ ula-ẍ a-ku-ẍ\n",
            "kiin chigana-ẍ tugu-ku-ẍ\n"
          ]
        }
      ],
      "source": [
        "def translate(text):\n",
        "    inputs = tokenizer(text, return_tensors=\"pt\", padding=True).to(device)\n",
        "    translated_tokens = model.generate(\n",
        "        **inputs,\n",
        "        max_length=128,\n",
        "        num_beams=5,\n",
        "        early_stopping=True\n",
        "    )\n",
        "    result = tokenizer.decode(translated_tokens[0], skip_special_tokens=True)\n",
        "    result = result.replace(\" ẍ\", \"ẍ\")\n",
        "    return result\n",
        "\n",
        "print(translate(\"Где большой дом?\"))\n",
        "print(translate(\"Кто видит реку?\"))"
      ]
    }
  ],
  "metadata": {
    "colab": {
      "provenance": []
    },
    "kernelspec": {
      "display_name": "Python 3",
      "name": "python3"
    },
    "language_info": {
      "name": "python"
    },
    "widgets": {
      "application/vnd.jupyter.widget-state+json": {
        "03d9dbb43fda48bbb9128305161dc9e0": {
          "model_module": "@jupyter-widgets/controls",
          "model_module_version": "1.5.0",
          "model_name": "FloatProgressModel",
          "state": {
            "_dom_classes": [],
            "_model_module": "@jupyter-widgets/controls",
            "_model_module_version": "1.5.0",
            "_model_name": "FloatProgressModel",
            "_view_count": null,
            "_view_module": "@jupyter-widgets/controls",
            "_view_module_version": "1.5.0",
            "_view_name": "ProgressView",
            "bar_style": "success",
            "description": "",
            "description_tooltip": null,
            "layout": "IPY_MODEL_45eab83e5ced40b98107865912500176",
            "max": 1142,
            "min": 0,
            "orientation": "horizontal",
            "style": "IPY_MODEL_2d59fbe1d2034a07a5a71c69211aac85",
            "value": 1142
          }
        },
        "158b186d43334d71907bc316bea7b2ea": {
          "model_module": "@jupyter-widgets/controls",
          "model_module_version": "1.5.0",
          "model_name": "DescriptionStyleModel",
          "state": {
            "_model_module": "@jupyter-widgets/controls",
            "_model_module_version": "1.5.0",
            "_model_name": "DescriptionStyleModel",
            "_view_count": null,
            "_view_module": "@jupyter-widgets/base",
            "_view_module_version": "1.2.0",
            "_view_name": "StyleView",
            "description_width": ""
          }
        },
        "2d59fbe1d2034a07a5a71c69211aac85": {
          "model_module": "@jupyter-widgets/controls",
          "model_module_version": "1.5.0",
          "model_name": "ProgressStyleModel",
          "state": {
            "_model_module": "@jupyter-widgets/controls",
            "_model_module_version": "1.5.0",
            "_model_name": "ProgressStyleModel",
            "_view_count": null,
            "_view_module": "@jupyter-widgets/base",
            "_view_module_version": "1.2.0",
            "_view_name": "StyleView",
            "bar_color": null,
            "description_width": ""
          }
        },
        "3b8c7b56cd36433abde4ba9b0673c919": {
          "model_module": "@jupyter-widgets/controls",
          "model_module_version": "1.5.0",
          "model_name": "DescriptionStyleModel",
          "state": {
            "_model_module": "@jupyter-widgets/controls",
            "_model_module_version": "1.5.0",
            "_model_name": "DescriptionStyleModel",
            "_view_count": null,
            "_view_module": "@jupyter-widgets/base",
            "_view_module_version": "1.2.0",
            "_view_name": "StyleView",
            "description_width": ""
          }
        },
        "41515adc63c6423b89df0d06274533ee": {
          "model_module": "@jupyter-widgets/controls",
          "model_module_version": "1.5.0",
          "model_name": "HBoxModel",
          "state": {
            "_dom_classes": [],
            "_model_module": "@jupyter-widgets/controls",
            "_model_module_version": "1.5.0",
            "_model_name": "HBoxModel",
            "_view_count": null,
            "_view_module": "@jupyter-widgets/controls",
            "_view_module_version": "1.5.0",
            "_view_name": "HBoxView",
            "box_style": "",
            "children": [
              "IPY_MODEL_7e0bf699e5ea4c42ab9f20f32dfc336b",
              "IPY_MODEL_03d9dbb43fda48bbb9128305161dc9e0",
              "IPY_MODEL_9e7813a18c0d4f9692ff4f1aff468b6a"
            ],
            "layout": "IPY_MODEL_bf2f03d2a7fd4758b870ea19ba300d65"
          }
        },
        "45eab83e5ced40b98107865912500176": {
          "model_module": "@jupyter-widgets/base",
          "model_module_version": "1.2.0",
          "model_name": "LayoutModel",
          "state": {
            "_model_module": "@jupyter-widgets/base",
            "_model_module_version": "1.2.0",
            "_model_name": "LayoutModel",
            "_view_count": null,
            "_view_module": "@jupyter-widgets/base",
            "_view_module_version": "1.2.0",
            "_view_name": "LayoutView",
            "align_content": null,
            "align_items": null,
            "align_self": null,
            "border": null,
            "bottom": null,
            "display": null,
            "flex": null,
            "flex_flow": null,
            "grid_area": null,
            "grid_auto_columns": null,
            "grid_auto_flow": null,
            "grid_auto_rows": null,
            "grid_column": null,
            "grid_gap": null,
            "grid_row": null,
            "grid_template_areas": null,
            "grid_template_columns": null,
            "grid_template_rows": null,
            "height": null,
            "justify_content": null,
            "justify_items": null,
            "left": null,
            "margin": null,
            "max_height": null,
            "max_width": null,
            "min_height": null,
            "min_width": null,
            "object_fit": null,
            "object_position": null,
            "order": null,
            "overflow": null,
            "overflow_x": null,
            "overflow_y": null,
            "padding": null,
            "right": null,
            "top": null,
            "visibility": null,
            "width": null
          }
        },
        "7e0bf699e5ea4c42ab9f20f32dfc336b": {
          "model_module": "@jupyter-widgets/controls",
          "model_module_version": "1.5.0",
          "model_name": "HTMLModel",
          "state": {
            "_dom_classes": [],
            "_model_module": "@jupyter-widgets/controls",
            "_model_module_version": "1.5.0",
            "_model_name": "HTMLModel",
            "_view_count": null,
            "_view_module": "@jupyter-widgets/controls",
            "_view_module_version": "1.5.0",
            "_view_name": "HTMLView",
            "description": "",
            "description_tooltip": null,
            "layout": "IPY_MODEL_c2183dc14d0e4d61ae11d9f1290991c3",
            "placeholder": "​",
            "style": "IPY_MODEL_3b8c7b56cd36433abde4ba9b0673c919",
            "value": "Map: 100%"
          }
        },
        "9e7813a18c0d4f9692ff4f1aff468b6a": {
          "model_module": "@jupyter-widgets/controls",
          "model_module_version": "1.5.0",
          "model_name": "HTMLModel",
          "state": {
            "_dom_classes": [],
            "_model_module": "@jupyter-widgets/controls",
            "_model_module_version": "1.5.0",
            "_model_name": "HTMLModel",
            "_view_count": null,
            "_view_module": "@jupyter-widgets/controls",
            "_view_module_version": "1.5.0",
            "_view_name": "HTMLView",
            "description": "",
            "description_tooltip": null,
            "layout": "IPY_MODEL_fb582df8c0904bc792694a2de6d6137d",
            "placeholder": "​",
            "style": "IPY_MODEL_158b186d43334d71907bc316bea7b2ea",
            "value": " 1142/1142 [00:00&lt;00:00, 4171.32 examples/s]"
          }
        },
        "bf2f03d2a7fd4758b870ea19ba300d65": {
          "model_module": "@jupyter-widgets/base",
          "model_module_version": "1.2.0",
          "model_name": "LayoutModel",
          "state": {
            "_model_module": "@jupyter-widgets/base",
            "_model_module_version": "1.2.0",
            "_model_name": "LayoutModel",
            "_view_count": null,
            "_view_module": "@jupyter-widgets/base",
            "_view_module_version": "1.2.0",
            "_view_name": "LayoutView",
            "align_content": null,
            "align_items": null,
            "align_self": null,
            "border": null,
            "bottom": null,
            "display": null,
            "flex": null,
            "flex_flow": null,
            "grid_area": null,
            "grid_auto_columns": null,
            "grid_auto_flow": null,
            "grid_auto_rows": null,
            "grid_column": null,
            "grid_gap": null,
            "grid_row": null,
            "grid_template_areas": null,
            "grid_template_columns": null,
            "grid_template_rows": null,
            "height": null,
            "justify_content": null,
            "justify_items": null,
            "left": null,
            "margin": null,
            "max_height": null,
            "max_width": null,
            "min_height": null,
            "min_width": null,
            "object_fit": null,
            "object_position": null,
            "order": null,
            "overflow": null,
            "overflow_x": null,
            "overflow_y": null,
            "padding": null,
            "right": null,
            "top": null,
            "visibility": null,
            "width": null
          }
        },
        "c2183dc14d0e4d61ae11d9f1290991c3": {
          "model_module": "@jupyter-widgets/base",
          "model_module_version": "1.2.0",
          "model_name": "LayoutModel",
          "state": {
            "_model_module": "@jupyter-widgets/base",
            "_model_module_version": "1.2.0",
            "_model_name": "LayoutModel",
            "_view_count": null,
            "_view_module": "@jupyter-widgets/base",
            "_view_module_version": "1.2.0",
            "_view_name": "LayoutView",
            "align_content": null,
            "align_items": null,
            "align_self": null,
            "border": null,
            "bottom": null,
            "display": null,
            "flex": null,
            "flex_flow": null,
            "grid_area": null,
            "grid_auto_columns": null,
            "grid_auto_flow": null,
            "grid_auto_rows": null,
            "grid_column": null,
            "grid_gap": null,
            "grid_row": null,
            "grid_template_areas": null,
            "grid_template_columns": null,
            "grid_template_rows": null,
            "height": null,
            "justify_content": null,
            "justify_items": null,
            "left": null,
            "margin": null,
            "max_height": null,
            "max_width": null,
            "min_height": null,
            "min_width": null,
            "object_fit": null,
            "object_position": null,
            "order": null,
            "overflow": null,
            "overflow_x": null,
            "overflow_y": null,
            "padding": null,
            "right": null,
            "top": null,
            "visibility": null,
            "width": null
          }
        },
        "fb582df8c0904bc792694a2de6d6137d": {
          "model_module": "@jupyter-widgets/base",
          "model_module_version": "1.2.0",
          "model_name": "LayoutModel",
          "state": {
            "_model_module": "@jupyter-widgets/base",
            "_model_module_version": "1.2.0",
            "_model_name": "LayoutModel",
            "_view_count": null,
            "_view_module": "@jupyter-widgets/base",
            "_view_module_version": "1.2.0",
            "_view_name": "LayoutView",
            "align_content": null,
            "align_items": null,
            "align_self": null,
            "border": null,
            "bottom": null,
            "display": null,
            "flex": null,
            "flex_flow": null,
            "grid_area": null,
            "grid_auto_columns": null,
            "grid_auto_flow": null,
            "grid_auto_rows": null,
            "grid_column": null,
            "grid_gap": null,
            "grid_row": null,
            "grid_template_areas": null,
            "grid_template_columns": null,
            "grid_template_rows": null,
            "height": null,
            "justify_content": null,
            "justify_items": null,
            "left": null,
            "margin": null,
            "max_height": null,
            "max_width": null,
            "min_height": null,
            "min_width": null,
            "object_fit": null,
            "object_position": null,
            "order": null,
            "overflow": null,
            "overflow_x": null,
            "overflow_y": null,
            "padding": null,
            "right": null,
            "top": null,
            "visibility": null,
            "width": null
          }
        }
      }
    }
  },
  "nbformat": 4,
  "nbformat_minor": 0
}