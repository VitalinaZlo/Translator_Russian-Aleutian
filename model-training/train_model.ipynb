{
 "cells": [
  {
   "cell_type": "markdown",
   "metadata": {},
   "source": [
    "# Обучение модели машинного перевода с русского на алеутский язык\n",
    "\n",
    "Этот ноутбук содержит код для обучения модели машинного перевода с русского на алеутский язык. Модель основана на архитектуре MarianMT из библиотеки `transformers` и обучается на пользовательском наборе данных `russian_aleut_dataset.csv`, содержащем пары переводов.\n",
    "\n",
    "## Требования\n",
    "- Python 3.11 (рекомендуется).\n",
    "- Google Colab с доступом к GPU (для ускорения обучения).\n",
    "- Датасет `russian_aleut_dataset.csv` (должен быть загружен в Colab).\n",
    "\n",
    "## Зависимости\n",
    "Установим необходимые библиотеки:"
   ]
  },
  {
   "cell_type": "code",
   "execution_count": null,
   "metadata": {},
   "outputs": [],
   "source": [
    "!pip install transformers torch pandas datasets"
   ]
  },
  {
   "cell_type": "markdown",
   "metadata": {},
   "source": [
    "## Импорт библиотек и настройка устройства\n",
    "\n",
    "Импортируем необходимые библиотеки и определяем устройство (GPU или CPU) для обучения."
   ]
  },
  {
   "cell_type": "code",
   "execution_count": null,
   "metadata": {},
   "outputs": [],
   "source": [
    "import pandas as pd\n",
    "import torch\n",
    "from datasets import Dataset\n",
    "from google.colab import files\n",
    "from transformers import (\n",
    "    MarianMTModel,\n",
    "    MarianTokenizer,\n",
    "    Trainer,\n",
    "    TrainingArguments,\n",
    ")\n",
    "\n",
    "# Определяем устройство для обучения (GPU или CPU)\n",
    "device = torch.device(\"cuda\" if torch.cuda.is_available() else \"cpu\")\n",
    "print(f\"Используемое устройство: {device}\")"
   ]
  },
  {
   "cell_type": "markdown",
   "metadata": {},
   "source": [
    "## Загрузка и подготовка данных\n",
    "\n",
    "Загружаем датасет из файла `russian_aleut_dataset.csv` и преобразуем его в формат `Dataset` для работы с библиотекой `transformers`."
   ]
  },
  {
   "cell_type": "code",
   "execution_count": null,
   "metadata": {},
   "outputs": [],
   "source": [
    "def load_dataset(file_path: str) -> Dataset:\n",
    "    \"\"\"Загружает датасет из CSV-файла и преобразует его в формат Dataset.\n",
    "\n",
    "    Args:\n",
    "        file_path: Путь к CSV-файлу с данными (русский-алеутский).\n",
    "\n",
    "    Returns:\n",
    "        Dataset: Набор данных в формате Hugging Face Dataset.\n",
    "    \"\"\"\n",
    "    # Читаем CSV-файл с парами переводов\n",
    "    df = pd.read_csv(file_path, sep=\";\", encoding=\"utf-8\")\n",
    "    translation_pairs = df[[\"Russian\", \"Aleut\"]].dropna().to_dict(\"records\")\n",
    "\n",
    "    # Преобразуем в формат Dataset\n",
    "    dataset = Dataset.from_list(\n",
    "        [{\"source\": pair[\"Russian\"], \"target\": pair[\"Aleut\"]} for pair in translation_pairs]\n",
    "    )\n",
    "    return dataset\n",
    "\n",
    "# Загружаем датасет\n",
    "dataset = load_dataset(\"russian_aleut_dataset.csv\")"
   ]
  },
  {
   "cell_type": "markdown",
   "metadata": {},
   "source": [
    "## Инициализация модели и токенизатора\n",
    "\n",
    "Инициализируем предобученную модель MarianMT и токенизатор, добавляем спецсимвол `ẍ`, характерный для алеутского языка."
   ]
  },
  {
   "cell_type": "code",
   "execution_count": null,
   "metadata": {},
   "outputs": [],
   "source": [
    "def initialize_model_and_tokenizer(model_name: str) -> tuple[MarianMTModel, MarianTokenizer]:\n",
    "    \"\"\"Инициализирует модель и токенизатор MarianMT.\"\"\"\n",
    "    \n",
    "    # Загружаем токенизатор и модель\n",
    "    tokenizer = MarianTokenizer.from_pretrained(model_name)\n",
    "    model = MarianMTModel.from_pretrained(model_name).to(device)\n",
    "\n",
    "    # Добавляем спецсимвол \"ẍ\" в токенизатор и обновляем размер эмбеддингов\n",
    "    tokenizer.add_tokens([\"ẍ\"])\n",
    "    model.resize_token_embeddings(len(tokenizer))\n",
    "\n",
    "    # Проверяем токенизацию и декодирование на тестовом тексте\n",
    "    sample_text = \"qana-ẍ angali-ẍ ula-ẍ a-ku-ẍ\"\n",
    "    encoded = tokenizer(sample_text, return_tensors=\"pt\")\n",
    "    decoded = tokenizer.decode(encoded[\"input_ids\"][0], skip_special_tokens=True)\n",
    "    print(\"Токенизировано и декодировано:\", decoded)\n",
    "\n",
    "    return model, tokenizer\n",
    "\n",
    "# Инициализируем модель и токенизатор\n",
    "model_name = \"Helsinki-NLP/opus-mt-ru-en\"\n",
    "model, tokenizer = initialize_model_and_tokenizer(model_name)"
   ]
  },
  {
   "cell_type": "markdown",
   "metadata": {},
   "source": [
    "## Предобработка данных\n",
    "\n",
    "Токенизируем входные (русские) и целевые (алеутские) тексты, подготавливая их для обучения."
   ]
  },
  {
   "cell_type": "code",
   "execution_count": null,
   "metadata": {},
   "outputs": [],
   "source": [
    "def preprocess_function(examples: dict) -> dict:\n",
    "    \"\"\"Подготавливает данные для обучения: токенизирует входные и целевые тексты.\"\"\"\n",
    "    \n",
    "    inputs = examples[\"source\"]\n",
    "    targets = examples[\"target\"]\n",
    "\n",
    "    # Токенизируем входные тексты (русский)\n",
    "    model_inputs = tokenizer(\n",
    "        inputs,\n",
    "        max_length=128,\n",
    "        truncation=True,\n",
    "        padding=\"max_length\",\n",
    "    )\n",
    "\n",
    "    # Токенизируем целевые тексты (алеутский) в режиме целевого токенизатора\n",
    "    with tokenizer.as_target_tokenizer():\n",
    "        labels = tokenizer(\n",
    "            targets,\n",
    "            max_length=128,\n",
    "            truncation=True,\n",
    "            padding=\"max_length\",\n",
    "        )\n",
    "\n",
    "    # Добавляем метки (labels) в выходной словарь\n",
    "    model_inputs[\"labels\"] = labels[\"input_ids\"]\n",
    "    return model_inputs\n",
    "\n",
    "# Применяем предобработку к датасету\n",
    "tokenized_dataset = dataset.map(preprocess_function, batched=True)\n",
    "\n",
    "# Разделяем на обучающую и тестовую выборки (90% — обучение, 10% — тест)\n",
    "train_test = tokenized_dataset.train_test_split(test_size=0.1)\n",
    "train_dataset = train_test[\"train\"]\n",
    "eval_dataset = train_test[\"test\"]"
   ]
  },
  {
   "cell_type": "markdown",
   "metadata": {},
   "source": [
    "## Обучение модели\n",
    "\n",
    "Настраиваем параметры обучения и запускаем процесс дообучения модели."
   ]
  },
  {
   "cell_type": "code",
   "execution_count": null,
   "metadata": {},
   "outputs": [],
   "source": [
    "def train_model(\n",
    "    model: MarianMTModel,\n",
    "    tokenizer: MarianTokenizer,\n",
    "    train_dataset: Dataset,\n",
    "    eval_dataset: Dataset,\n",
    ") -> None:\n",
    "    \"\"\"Обучает модель на подготовленных данных.\"\"\"\n",
    "    \n",
    "    # Настраиваем параметры обучения\n",
    "    training_args = TrainingArguments(\n",
    "        output_dir=\"./mbart_aleut\",\n",
    "        evaluation_strategy=\"epoch\",\n",
    "        learning_rate=5e-5,\n",
    "        per_device_train_batch_size=2,\n",
    "        per_device_eval_batch_size=2,\n",
    "        gradient_accumulation_steps=2,\n",
    "        num_train_epochs=5,\n",
    "        weight_decay=0.01,\n",
    "        save_strategy=\"epoch\",\n",
    "        load_best_model_at_end=True,\n",
    "        logging_dir=\"./logs\",\n",
    "        logging_steps=10,\n",
    "        report_to=\"none\",\n",
    "        fp16=True,\n",
    "    )\n",
    "\n",
    "    # Инициализируем Trainer для обучения\n",
    "    trainer = Trainer(\n",
    "        model=model,\n",
    "        args=training_args,\n",
    "        train_dataset=train_dataset,\n",
    "        eval_dataset=eval_dataset,\n",
    "    )\n",
    "\n",
    "    # Запускаем обучение\n",
    "    trainer.train()\n",
    "\n",
    "# Обучаем модель\n",
    "train_model(model, tokenizer, train_dataset, eval_dataset)"
   ]
  },
  {
   "cell_type": "markdown",
   "metadata": {},
   "source": [
    "## Сохранение модели\n",
    "\n",
    "Сохраняем обученную модель и токенизатор в папку `Marian_aleut_model`, архивируем её и скачиваем архив."
   ]
  },
  {
   "cell_type": "code",
   "execution_count": null,
   "metadata": {},
   "outputs": [],
   "source": [
    "def save_model_and_tokenizer(\n",
    "    model: MarianMTModel,\n",
    "    tokenizer: MarianTokenizer,\n",
    "    save_dir: str,\n",
    "    zip_name: str,\n",
    ") -> None:\n",
    "    \"\"\"Сохраняет модель и токенизатор, а затем архивирует их в zip-файл.\"\"\"\n",
    "    \n",
    "    # Сохраняем модель и токенизатор\n",
    "    model.save_pretrained(save_dir)\n",
    "    tokenizer.save_pretrained(save_dir)\n",
    "\n",
    "    # Архивируем папку с моделью\n",
    "    !zip -r {zip_name} {save_dir}\n",
    "\n",
    "    # Скачиваем архив\n",
    "    files.download(zip_name)\n",
    "\n",
    "# Сохраняем модель\n",
    "save_model_and_tokenizer(model, tokenizer, \"Marian_aleut_model\", \"Marian_aleut_model.zip\")"
   ]
  },
  {
   "cell_type": "markdown",
   "metadata": {},
   "source": [
    "## Тестирование модели\n",
    "\n",
    "Проверяем работу модели на нескольких тестовых фразах."
   ]
  },
  {
   "cell_type": "code",
   "execution_count": null,
   "metadata": {},
   "outputs": [],
   "source": [
    "def translate(text: str, model: MarianMTModel, tokenizer: MarianTokenizer) -> str:\n",
    "    \"\"\"Переводит текст с русского на алеутский с использованием обученной модели.\"\"\"\n",
    "    \n",
    "    # Токенизируем входной текст\n",
    "    inputs = tokenizer(text, return_tensors=\"pt\", padding=True).to(device)\n",
    "\n",
    "    # Генерируем перевод\n",
    "    translated_tokens = model.generate(\n",
    "        **inputs,\n",
    "        max_length=128,\n",
    "        num_beams=5,\n",
    "        early_stopping=True,\n",
    "    )\n",
    "\n",
    "    # Декодируем результат\n",
    "    result = tokenizer.decode(translated_tokens[0], skip_special_tokens=True)\n",
    "\n",
    "    # Исправляем пробелы перед спецсимволом \"ẍ\"\n",
    "    result = result.replace(\" ẍ\", \"ẍ\")\n",
    "    return result\n",
    "\n",
    "# Тестируем модель\n",
    "print(\"Тестирование модели:\")\n",
    "test_phrases = [\"Где большой дом?\", \"Кто видит реку?\"]\n",
    "for phrase in test_phrases:\n",
    "    translation = translate(phrase, model, tokenizer)\n",
    "    print(f\"Русский: {phrase} -> Алеутский: {translation}\")"
   ]
  }
 ],
 "metadata": {
  "kernelspec": {
   "display_name": "Python 3",
   "language": "python",
   "name": "python3"
  },
  "language_info": {
   "codemirror_mode": {
    "name": "ipython",
    "version": 3
   },
   "file_extension": ".py",
   "mimetype": "text/x-python",
   "name": "python",
   "nbconvert_exporter": "python",
   "pygments_lexer": "ipython3",
   "version": "3.11.0"
  }
 },
 "nbformat": 4,
 "nbformat_minor": 5
}
